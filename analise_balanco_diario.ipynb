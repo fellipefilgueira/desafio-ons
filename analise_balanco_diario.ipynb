{
 "cells": [
  {
   "cell_type": "code",
   "execution_count": null,
   "metadata": {},
   "outputs": [],
   "source": [
    "df_23 = pd.read_excel('https://ons-aws-prod-opendata.s3.amazonaws.com/dataset/balanco_programacao_diaria_tm/BALANCO_PROGRAMACAO_DIARIA_2023.xlsx')\n",
    "df_24 = pd.read_excel('https://ons-aws-prod-opendata.s3.amazonaws.com/dataset/balanco_programacao_diaria_tm/BALANCO_PROGRAMACAO_DIARIA_2024.xlsx')"
   ]
  }
 ],
 "metadata": {
  "language_info": {
   "name": "python"
  }
 },
 "nbformat": 4,
 "nbformat_minor": 2
}
